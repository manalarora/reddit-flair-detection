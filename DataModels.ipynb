{
  "nbformat": 4,
  "nbformat_minor": 0,
  "metadata": {
    "colab": {
      "name": "DataModels.ipynb",
      "provenance": [],
      "toc_visible": true
    },
    "kernelspec": {
      "name": "python3",
      "display_name": "Python 3"
    }
  },
  "cells": [
    {
      "cell_type": "markdown",
      "metadata": {
        "id": "7qBEs7POaAol",
        "colab_type": "text"
      },
      "source": [
        "##Install Required Modules"
      ]
    },
    {
      "cell_type": "code",
      "metadata": {
        "id": "SrTOYxdSWzxi",
        "colab_type": "code",
        "colab": {}
      },
      "source": [
        "# !pip install scikit-learn\n",
        "# !pip install pickle\n",
        "# !pip install pandas \n",
        "# !pip install bs4\n",
        "# !pip install re\n",
        "# !pip install nltk"
      ],
      "execution_count": 0,
      "outputs": []
    },
    {
      "cell_type": "markdown",
      "metadata": {
        "id": "ZClHuUbJaNT3",
        "colab_type": "text"
      },
      "source": [
        "##Import Libraires and Required Dependencies"
      ]
    },
    {
      "cell_type": "code",
      "metadata": {
        "id": "PXfCoY35PKyE",
        "colab_type": "code",
        "colab": {}
      },
      "source": [
        "from sklearn.model_selection import train_test_split\n",
        "from sklearn.naive_bayes import MultinomialNB\n",
        "from sklearn.pipeline import Pipeline\n",
        "from sklearn.feature_extraction.text import TfidfTransformer\n",
        "from sklearn.feature_extraction.text import CountVectorizer\n",
        "from sklearn.metrics import classification_report\n",
        "from sklearn.metrics import accuracy_score, confusion_matrix\n",
        "from sklearn.linear_model import SGDClassifier\n",
        "from sklearn.linear_model import LogisticRegression\n",
        "from sklearn.ensemble import RandomForestClassifier\n",
        "from sklearn.neural_network import MLPClassifier\n",
        "from sklearn.externals import joblib\n",
        "import pickle\n",
        "import pandas as pd\n",
        "import pickle\n",
        "from bs4 import BeautifulSoup\n",
        "import re\n",
        "import nltk\n",
        "nltk.download('all')\n",
        "from nltk.corpus import stopwords"
      ],
      "execution_count": 0,
      "outputs": []
    },
    {
      "cell_type": "markdown",
      "metadata": {
        "id": "XZZFbhgpaZqn",
        "colab_type": "text"
      },
      "source": [
        "##Loading the Scrapped Data for training the models\n",
        "We first load the data but we have to clean it again to process empty spaces in the dataset such as some posts have no body, some posts have no comments, else there are errors while training  "
      ]
    },
    {
      "cell_type": "code",
      "metadata": {
        "id": "kUyDE_AsXK-a",
        "colab_type": "code",
        "colab": {}
      },
      "source": [
        "flairs = [\"AskIndia\", \"Non-Political\", \"Scheduled\", \"Photography\", \"Science/Technology\", \"Politics\", \"Business/Finance\", \"Policy/Economy\", \"Sports\", \"Food\", \"Coronavirus\"]\n",
        "\n",
        "data = pd.read_csv('/content/data1.csv')\n",
        "data.head()\n",
        "\n",
        "replace_by_space = re.compile('[/(){}\\[\\]\\|@,;]')\n",
        "replace_symbol = re.compile('[^0-9a-z #+_]')\n",
        "STOPWORDS = set(stopwords.words('english'))\n",
        "\n",
        "def clean_text(text):\n",
        "    text = BeautifulSoup(text, \"lxml\").text # HTML decoding\n",
        "    text = text.lower() # lowercase text\n",
        "    text = replace_by_space.sub(' ', text) # replace certain symbols by space in text\n",
        "    text = replace_symbol.sub('', text) # delete symbols from text\n",
        "    text = ' '.join(word for word in text.split() if word not in STOPWORDS) # remove STOPWORDS from text\n",
        "    return text\n",
        "\n",
        "def to_str(text):\n",
        "  return str(text)\n",
        "\n",
        "data['title'] = data['title'].apply(to_str)\n",
        "data['title'] = data['title'].apply(clean_text)\n",
        "data['url'] = data['url'].apply(to_str)\n",
        "data['url'] = data['url'].apply(clean_text)\n",
        "data['body'] = data['body'].apply(to_str)\n",
        "data['body'] = data['body'].apply(clean_text)\n",
        "data['comments'] = data['comments'].apply(to_str)\n",
        "data['comments'] = data['comments'].apply(clean_text)\n",
        "data['combined_features'] = data['combined_features'].apply(to_str)\n",
        "data['combined_features'] = data['combined_features'].apply(clean_text)"
      ],
      "execution_count": 0,
      "outputs": []
    },
    {
      "cell_type": "markdown",
      "metadata": {
        "id": "kgIi0jAWqS3Q",
        "colab_type": "text"
      },
      "source": [
        "##Naive Bayes Classifier\n",
        "Naive Bayes is a family of algorithms based on applying Bayes theorem with a strong(naive) assumption, that every feature is independent of the others, in order to predict the category of a given sample. They are probabilistic classifiers, therefore will calculate the probability of each category using Bayes theorem, and the category with the highest probability will be output."
      ]
    },
    {
      "cell_type": "code",
      "metadata": {
        "id": "4RnDOc1sJds5",
        "colab_type": "code",
        "colab": {}
      },
      "source": [
        "def nb_classifier(X_train, X_test, y_train, y_test):\n",
        "  \n",
        "  from sklearn.naive_bayes import MultinomialNB\n",
        "\n",
        "\n",
        "  nb = Pipeline([('vect', CountVectorizer()),\n",
        "                 ('tfidf', TfidfTransformer()),\n",
        "                 ('clf', MultinomialNB()),\n",
        "                ])\n",
        "  nb.fit(X_train, y_train)\n",
        "\n",
        "  y_pred = nb.predict(X_test)\n",
        "\n",
        "  print('accuracy %s' % accuracy_score(y_pred, y_test))\n",
        "  print(classification_report(y_test, y_pred,target_names=flairs))"
      ],
      "execution_count": 0,
      "outputs": []
    },
    {
      "cell_type": "markdown",
      "metadata": {
        "id": "ftimFBNKqZsU",
        "colab_type": "text"
      },
      "source": [
        "##Linear Support Vector Machine\n",
        "The objective of the support vector machine algorithm is to find a hyperplane in an N-dimensional space(N — the number of features) that distinctly classifies the data points.\n",
        "Our objective is to find a plane that has the maximum margin, i.e the maximum distance between data points of both classes. "
      ]
    },
    {
      "cell_type": "code",
      "metadata": {
        "id": "wB83ZU_Xqaxt",
        "colab_type": "code",
        "colab": {}
      },
      "source": [
        "def linear_svm(X_train, X_test, y_train, y_test):\n",
        "  \n",
        "  from sklearn.linear_model import SGDClassifier\n",
        "\n",
        "  sgd = Pipeline([('vect', CountVectorizer()),\n",
        "                  ('tfidf', TfidfTransformer()),\n",
        "                  ('clf', SGDClassifier(loss='hinge', penalty='l2',alpha=1e-3, random_state=42, max_iter=10, tol=None)),\n",
        "                 ])\n",
        "  sgd.fit(X_train, y_train)\n",
        "\n",
        "  y_pred = sgd.predict(X_test)\n",
        "\n",
        "  print('accuracy %s' % accuracy_score(y_pred, y_test))\n",
        "  print(classification_report(y_test, y_pred,target_names=flairs))"
      ],
      "execution_count": 0,
      "outputs": []
    },
    {
      "cell_type": "markdown",
      "metadata": {
        "id": "qceekhhbqn96",
        "colab_type": "text"
      },
      "source": [
        "##Logistic Regression\n",
        "Logistic Regression is a core supervised learning technique for solving classification problems. "
      ]
    },
    {
      "cell_type": "code",
      "metadata": {
        "id": "NE8Ekj_pqoVS",
        "colab_type": "code",
        "colab": {}
      },
      "source": [
        "def logisticreg(X_train, X_test, y_train, y_test):\n",
        "\n",
        "  from sklearn.linear_model import LogisticRegression\n",
        "\n",
        "  logreg = Pipeline([('vect', CountVectorizer()),\n",
        "                  ('tfidf', TfidfTransformer()),\n",
        "                  ('clf', LogisticRegression(n_jobs=1, C=1e5, max_iter=100)),\n",
        "                 ])\n",
        "  logreg.fit(X_train, y_train)\n",
        "\n",
        "  y_pred = logreg.predict(X_test)\n",
        "\n",
        "  print('accuracy %s' % accuracy_score(y_pred, y_test))\n",
        "  print(classification_report(y_test, y_pred,target_names=flairs))"
      ],
      "execution_count": 0,
      "outputs": []
    },
    {
      "cell_type": "markdown",
      "metadata": {
        "id": "Jw914nVVquMl",
        "colab_type": "text"
      },
      "source": [
        "##Random Forest\n",
        "Random forest, like its name implies, consists of a large number of individual decision trees that operate as an ensemble. Each individual tree in the random forest spits out a class prediction and the class with the most votes becomes our model’s prediction"
      ]
    },
    {
      "cell_type": "code",
      "metadata": {
        "id": "FiK5fDQwquiz",
        "colab_type": "code",
        "colab": {}
      },
      "source": [
        "def randomforest(X_train, X_test, y_train, y_test):\n",
        "  \n",
        "  from sklearn.ensemble import RandomForestClassifier\n",
        "  \n",
        "  ranfor = Pipeline([('vect', CountVectorizer()),\n",
        "                  ('tfidf', TfidfTransformer()),\n",
        "                  ('clf', RandomForestClassifier(n_estimators = 1000, random_state = 42)),\n",
        "                 ])\n",
        "  ranfor.fit(X_train, y_train)\n",
        "\n",
        "  y_pred = ranfor.predict(X_test)\n",
        "\n",
        "  print('accuracy %s' % accuracy_score(y_pred, y_test))\n",
        "  print(classification_report(y_test, y_pred,target_names=flairs))"
      ],
      "execution_count": 0,
      "outputs": []
    },
    {
      "cell_type": "markdown",
      "metadata": {
        "id": "wZA5oyH7rKCF",
        "colab_type": "text"
      },
      "source": [
        "##MLP Classifier\n",
        "Multi-layer Perceptron classifier.\n",
        "This model optimizes the log-loss function using stochastic gradient descent."
      ]
    },
    {
      "cell_type": "code",
      "metadata": {
        "id": "Vt__4blbrKxW",
        "colab_type": "code",
        "colab": {}
      },
      "source": [
        "def mlpclassifier(X_train, X_test, y_train, y_test):\n",
        "  \n",
        "  from sklearn.neural_network import MLPClassifier\n",
        "  \n",
        "  mlp = Pipeline([('vect', CountVectorizer()),\n",
        "                  ('tfidf', TfidfTransformer()),\n",
        "                  ('clf', MLPClassifier(hidden_layer_sizes=(30,30,30))),\n",
        "                 ])\n",
        "  mlp.fit(X_train, y_train)\n",
        "\n",
        "  y_pred = mlp.predict(X_test)\n",
        "\n",
        "  print('accuracy %s' % accuracy_score(y_pred, y_test))\n",
        "  print(classification_report(y_test, y_pred,target_names=flairs))"
      ],
      "execution_count": 0,
      "outputs": []
    },
    {
      "cell_type": "markdown",
      "metadata": {
        "id": "iedmthFxrSQd",
        "colab_type": "text"
      },
      "source": [
        "##Training Loop \n",
        "Train all 5 models with differentfeature"
      ]
    },
    {
      "cell_type": "code",
      "metadata": {
        "id": "CrXDroeirSjO",
        "colab_type": "code",
        "colab": {}
      },
      "source": [
        "def train_test(X,y):\n",
        " \n",
        "    X_train, X_test, y_train, y_test = train_test_split(X, y, test_size=0.2, random_state = 42)\n",
        "   \n",
        "    print(\"Results of Naive Bayes Classifier\")\n",
        "    nb_classifier(X_train, X_test, y_train, y_test)\n",
        "    print(\"Results of Linear Support Vector Machine\")\n",
        "    linear_svm(X_train, X_test, y_train, y_test)\n",
        "    print(\"Results of Logistic Regression\")\n",
        "    logisticreg(X_train, X_test, y_train, y_test)\n",
        "    print(\"Results of Random Forest\")\n",
        "    randomforest(X_train, X_test, y_train, y_test)\n",
        "    print(\"Results of MLP Classifier\")\n",
        "    mlpclassifier(X_train, X_test, y_train, y_test)"
      ],
      "execution_count": 0,
      "outputs": []
    },
    {
      "cell_type": "markdown",
      "metadata": {
        "id": "0cMVWJ5hfnZH",
        "colab_type": "text"
      },
      "source": [
        "##Dividing data into diiferent features to train on "
      ]
    },
    {
      "cell_type": "code",
      "metadata": {
        "id": "NM36zKyEsZsH",
        "colab_type": "code",
        "colab": {}
      },
      "source": [
        "cat = data.flair\n",
        "\n",
        "X = data.title\n",
        "Y = data.body\n",
        "Z = data.url\n",
        "V = data.combined_features\n",
        "W = data.comments"
      ],
      "execution_count": 0,
      "outputs": []
    },
    {
      "cell_type": "markdown",
      "metadata": {
        "id": "4LlKIaiEXqBM",
        "colab_type": "text"
      },
      "source": [
        ""
      ]
    },
    {
      "cell_type": "markdown",
      "metadata": {
        "id": "trhU0zb5pJcT",
        "colab_type": "text"
      },
      "source": [
        "##Flair Detection using Title as Feature"
      ]
    },
    {
      "cell_type": "code",
      "metadata": {
        "colab_type": "code",
        "id": "KeXpnqfopDXP",
        "colab": {
          "base_uri": "https://localhost:8080/",
          "height": 1000
        },
        "outputId": "0c4913df-d454-489e-bb68-eb1ca508bdf5"
      },
      "source": [
        "train_test(X,cat)"
      ],
      "execution_count": 27,
      "outputs": [
        {
          "output_type": "stream",
          "text": [
            "Results of Naive Bayes Classifier\n",
            "accuracy 0.6545454545454545\n",
            "                    precision    recall  f1-score   support\n",
            "\n",
            "          AskIndia       0.71      0.50      0.59        24\n",
            "     Non-Political       0.27      0.43      0.33        14\n",
            "         Scheduled       0.60      0.94      0.73        16\n",
            "       Photography       0.73      0.84      0.78        19\n",
            "Science/Technology       0.67      0.84      0.74        19\n",
            "          Politics       0.88      0.84      0.86        25\n",
            "  Business/Finance       0.59      0.45      0.51        22\n",
            "    Policy/Economy       0.76      0.52      0.62        25\n",
            "            Sports       0.59      0.59      0.59        17\n",
            "              Food       0.57      0.67      0.62        18\n",
            "       Coronavirus       0.93      0.62      0.74        21\n",
            "\n",
            "          accuracy                           0.65       220\n",
            "         macro avg       0.66      0.66      0.65       220\n",
            "      weighted avg       0.68      0.65      0.66       220\n",
            "\n",
            "Results of Linear Support Vector Machine\n",
            "accuracy 0.7136363636363636\n",
            "                    precision    recall  f1-score   support\n",
            "\n",
            "          AskIndia       0.76      0.67      0.71        24\n",
            "     Non-Political       0.25      0.29      0.27        14\n",
            "         Scheduled       0.79      0.94      0.86        16\n",
            "       Photography       0.77      0.89      0.83        19\n",
            "Science/Technology       0.81      0.89      0.85        19\n",
            "          Politics       0.95      0.80      0.87        25\n",
            "  Business/Finance       0.48      0.50      0.49        22\n",
            "    Policy/Economy       0.82      0.72      0.77        25\n",
            "            Sports       0.55      0.65      0.59        17\n",
            "              Food       0.67      0.67      0.67        18\n",
            "       Coronavirus       0.94      0.76      0.84        21\n",
            "\n",
            "          accuracy                           0.71       220\n",
            "         macro avg       0.71      0.71      0.70       220\n",
            "      weighted avg       0.73      0.71      0.72       220\n",
            "\n",
            "Results of Logistic Regression\n"
          ],
          "name": "stdout"
        },
        {
          "output_type": "stream",
          "text": [
            "/usr/local/lib/python3.6/dist-packages/sklearn/linear_model/_logistic.py:940: ConvergenceWarning: lbfgs failed to converge (status=1):\n",
            "STOP: TOTAL NO. of ITERATIONS REACHED LIMIT.\n",
            "\n",
            "Increase the number of iterations (max_iter) or scale the data as shown in:\n",
            "    https://scikit-learn.org/stable/modules/preprocessing.html\n",
            "Please also refer to the documentation for alternative solver options:\n",
            "    https://scikit-learn.org/stable/modules/linear_model.html#logistic-regression\n",
            "  extra_warning_msg=_LOGISTIC_SOLVER_CONVERGENCE_MSG)\n"
          ],
          "name": "stderr"
        },
        {
          "output_type": "stream",
          "text": [
            "accuracy 0.7363636363636363\n",
            "                    precision    recall  f1-score   support\n",
            "\n",
            "          AskIndia       0.90      0.79      0.84        24\n",
            "     Non-Political       0.24      0.43      0.31        14\n",
            "         Scheduled       0.94      0.94      0.94        16\n",
            "       Photography       0.94      0.84      0.89        19\n",
            "Science/Technology       0.94      0.89      0.92        19\n",
            "          Politics       0.95      0.84      0.89        25\n",
            "  Business/Finance       0.46      0.50      0.48        22\n",
            "    Policy/Economy       0.78      0.72      0.75        25\n",
            "            Sports       0.62      0.76      0.68        17\n",
            "              Food       0.67      0.67      0.67        18\n",
            "       Coronavirus       0.93      0.67      0.78        21\n",
            "\n",
            "          accuracy                           0.74       220\n",
            "         macro avg       0.76      0.73      0.74       220\n",
            "      weighted avg       0.78      0.74      0.75       220\n",
            "\n",
            "Results of Random Forest\n",
            "accuracy 0.7090909090909091\n",
            "                    precision    recall  f1-score   support\n",
            "\n",
            "          AskIndia       0.57      0.71      0.63        24\n",
            "     Non-Political       0.25      0.36      0.29        14\n",
            "         Scheduled       0.94      0.94      0.94        16\n",
            "       Photography       0.94      0.89      0.92        19\n",
            "Science/Technology       1.00      0.89      0.94        19\n",
            "          Politics       1.00      0.80      0.89        25\n",
            "  Business/Finance       0.53      0.41      0.46        22\n",
            "    Policy/Economy       0.90      0.76      0.83        25\n",
            "            Sports       0.63      0.71      0.67        17\n",
            "              Food       0.86      0.67      0.75        18\n",
            "       Coronavirus       0.46      0.62      0.53        21\n",
            "\n",
            "          accuracy                           0.71       220\n",
            "         macro avg       0.74      0.70      0.71       220\n",
            "      weighted avg       0.75      0.71      0.72       220\n",
            "\n",
            "Results of MLP Classifier\n",
            "accuracy 0.5318181818181819\n",
            "                    precision    recall  f1-score   support\n",
            "\n",
            "          AskIndia       0.65      0.54      0.59        24\n",
            "     Non-Political       0.17      0.43      0.24        14\n",
            "         Scheduled       0.60      0.56      0.58        16\n",
            "       Photography       0.85      0.58      0.69        19\n",
            "Science/Technology       0.65      0.79      0.71        19\n",
            "          Politics       0.85      0.68      0.76        25\n",
            "  Business/Finance       0.32      0.41      0.36        22\n",
            "    Policy/Economy       0.55      0.24      0.33        25\n",
            "            Sports       0.44      0.71      0.55        17\n",
            "              Food       0.65      0.61      0.63        18\n",
            "       Coronavirus       0.80      0.38      0.52        21\n",
            "\n",
            "          accuracy                           0.53       220\n",
            "         macro avg       0.59      0.54      0.54       220\n",
            "      weighted avg       0.61      0.53      0.55       220\n",
            "\n"
          ],
          "name": "stdout"
        }
      ]
    },
    {
      "cell_type": "markdown",
      "metadata": {
        "id": "lk_mWfCeX8jz",
        "colab_type": "text"
      },
      "source": [
        "##Flair Detection using Body as Feature"
      ]
    },
    {
      "cell_type": "code",
      "metadata": {
        "colab_type": "code",
        "id": "tmNdrypl0KzJ",
        "outputId": "43b122d1-a14d-46c4-d4f5-ddc76a7833aa",
        "colab": {
          "base_uri": "https://localhost:8080/",
          "height": 1000
        }
      },
      "source": [
        "train_test(Y,cat)"
      ],
      "execution_count": 28,
      "outputs": [
        {
          "output_type": "stream",
          "text": [
            "Results of Naive Bayes Classifier\n",
            "accuracy 0.24545454545454545\n",
            "                    precision    recall  f1-score   support\n",
            "\n",
            "          AskIndia       0.44      0.29      0.35        24\n",
            "     Non-Political       0.13      0.57      0.21        14\n",
            "         Scheduled       0.14      0.88      0.24        16\n",
            "       Photography       0.00      0.00      0.00        19\n",
            "Science/Technology       0.00      0.00      0.00        19\n",
            "          Politics       0.85      0.44      0.58        25\n",
            "  Business/Finance       0.40      0.36      0.38        22\n",
            "    Policy/Economy       0.00      0.00      0.00        25\n",
            "            Sports       0.50      0.18      0.26        17\n",
            "              Food       0.50      0.06      0.10        18\n",
            "       Coronavirus       1.00      0.10      0.17        21\n",
            "\n",
            "          accuracy                           0.25       220\n",
            "         macro avg       0.36      0.26      0.21       220\n",
            "      weighted avg       0.38      0.25      0.22       220\n",
            "\n",
            "Results of Linear Support Vector Machine\n"
          ],
          "name": "stdout"
        },
        {
          "output_type": "stream",
          "text": [
            "/usr/local/lib/python3.6/dist-packages/sklearn/metrics/_classification.py:1272: UndefinedMetricWarning: Precision and F-score are ill-defined and being set to 0.0 in labels with no predicted samples. Use `zero_division` parameter to control this behavior.\n",
            "  _warn_prf(average, modifier, msg_start, len(result))\n",
            "/usr/local/lib/python3.6/dist-packages/sklearn/metrics/_classification.py:1272: UndefinedMetricWarning: Precision and F-score are ill-defined and being set to 0.0 in labels with no predicted samples. Use `zero_division` parameter to control this behavior.\n",
            "  _warn_prf(average, modifier, msg_start, len(result))\n"
          ],
          "name": "stderr"
        },
        {
          "output_type": "stream",
          "text": [
            "accuracy 0.38181818181818183\n",
            "                    precision    recall  f1-score   support\n",
            "\n",
            "          AskIndia       0.45      0.58      0.51        24\n",
            "     Non-Political       0.50      0.57      0.53        14\n",
            "         Scheduled       0.00      0.00      0.00        16\n",
            "       Photography       0.14      0.79      0.24        19\n",
            "Science/Technology       0.33      0.05      0.09        19\n",
            "          Politics       1.00      0.52      0.68        25\n",
            "  Business/Finance       0.65      0.50      0.56        22\n",
            "    Policy/Economy       0.00      0.00      0.00        25\n",
            "            Sports       0.62      0.47      0.53        17\n",
            "              Food       0.54      0.39      0.45        18\n",
            "       Coronavirus       0.78      0.33      0.47        21\n",
            "\n",
            "          accuracy                           0.38       220\n",
            "         macro avg       0.46      0.38      0.37       220\n",
            "      weighted avg       0.47      0.38      0.38       220\n",
            "\n",
            "Results of Logistic Regression\n"
          ],
          "name": "stdout"
        },
        {
          "output_type": "stream",
          "text": [
            "/usr/local/lib/python3.6/dist-packages/sklearn/linear_model/_logistic.py:940: ConvergenceWarning: lbfgs failed to converge (status=1):\n",
            "STOP: TOTAL NO. of ITERATIONS REACHED LIMIT.\n",
            "\n",
            "Increase the number of iterations (max_iter) or scale the data as shown in:\n",
            "    https://scikit-learn.org/stable/modules/preprocessing.html\n",
            "Please also refer to the documentation for alternative solver options:\n",
            "    https://scikit-learn.org/stable/modules/linear_model.html#logistic-regression\n",
            "  extra_warning_msg=_LOGISTIC_SOLVER_CONVERGENCE_MSG)\n",
            "/usr/local/lib/python3.6/dist-packages/sklearn/metrics/_classification.py:1272: UndefinedMetricWarning: Precision and F-score are ill-defined and being set to 0.0 in labels with no predicted samples. Use `zero_division` parameter to control this behavior.\n",
            "  _warn_prf(average, modifier, msg_start, len(result))\n"
          ],
          "name": "stderr"
        },
        {
          "output_type": "stream",
          "text": [
            "accuracy 0.35909090909090907\n",
            "                    precision    recall  f1-score   support\n",
            "\n",
            "          AskIndia       0.53      0.38      0.44        24\n",
            "     Non-Political       0.47      0.50      0.48        14\n",
            "         Scheduled       0.14      0.88      0.24        16\n",
            "       Photography       0.50      0.05      0.10        19\n",
            "Science/Technology       0.13      0.11      0.12        19\n",
            "          Politics       0.88      0.56      0.68        25\n",
            "  Business/Finance       0.52      0.50      0.51        22\n",
            "    Policy/Economy       0.00      0.00      0.00        25\n",
            "            Sports       0.50      0.47      0.48        17\n",
            "              Food       0.54      0.39      0.45        18\n",
            "       Coronavirus       1.00      0.29      0.44        21\n",
            "\n",
            "          accuracy                           0.36       220\n",
            "         macro avg       0.47      0.37      0.36       220\n",
            "      weighted avg       0.48      0.36      0.36       220\n",
            "\n",
            "Results of Random Forest\n",
            "accuracy 0.35\n",
            "                    precision    recall  f1-score   support\n",
            "\n",
            "          AskIndia       0.37      0.58      0.45        24\n",
            "     Non-Political       0.47      0.57      0.52        14\n",
            "         Scheduled       0.14      0.88      0.24        16\n",
            "       Photography       0.50      0.05      0.10        19\n",
            "Science/Technology       0.06      0.05      0.05        19\n",
            "          Politics       1.00      0.52      0.68        25\n",
            "  Business/Finance       0.80      0.55      0.65        22\n",
            "    Policy/Economy       0.00      0.00      0.00        25\n",
            "            Sports       0.50      0.12      0.19        17\n",
            "              Food       0.78      0.39      0.52        18\n",
            "       Coronavirus       1.00      0.24      0.38        21\n",
            "\n",
            "          accuracy                           0.35       220\n",
            "         macro avg       0.51      0.36      0.34       220\n",
            "      weighted avg       0.52      0.35      0.35       220\n",
            "\n",
            "Results of MLP Classifier\n"
          ],
          "name": "stdout"
        },
        {
          "output_type": "stream",
          "text": [
            "/usr/local/lib/python3.6/dist-packages/sklearn/metrics/_classification.py:1272: UndefinedMetricWarning: Precision and F-score are ill-defined and being set to 0.0 in labels with no predicted samples. Use `zero_division` parameter to control this behavior.\n",
            "  _warn_prf(average, modifier, msg_start, len(result))\n"
          ],
          "name": "stderr"
        },
        {
          "output_type": "stream",
          "text": [
            "accuracy 0.2636363636363636\n",
            "                    precision    recall  f1-score   support\n",
            "\n",
            "          AskIndia       0.40      0.08      0.14        24\n",
            "     Non-Political       0.20      0.36      0.26        14\n",
            "         Scheduled       0.14      0.88      0.24        16\n",
            "       Photography       0.50      0.05      0.10        19\n",
            "Science/Technology       0.06      0.05      0.06        19\n",
            "          Politics       0.92      0.44      0.59        25\n",
            "  Business/Finance       0.62      0.36      0.46        22\n",
            "    Policy/Economy       0.00      0.00      0.00        25\n",
            "            Sports       0.41      0.41      0.41        17\n",
            "              Food       0.19      0.28      0.23        18\n",
            "       Coronavirus       0.80      0.19      0.31        21\n",
            "\n",
            "          accuracy                           0.26       220\n",
            "         macro avg       0.39      0.28      0.25       220\n",
            "      weighted avg       0.40      0.26      0.26       220\n",
            "\n"
          ],
          "name": "stdout"
        },
        {
          "output_type": "stream",
          "text": [
            "/usr/local/lib/python3.6/dist-packages/sklearn/metrics/_classification.py:1272: UndefinedMetricWarning: Precision and F-score are ill-defined and being set to 0.0 in labels with no predicted samples. Use `zero_division` parameter to control this behavior.\n",
            "  _warn_prf(average, modifier, msg_start, len(result))\n"
          ],
          "name": "stderr"
        }
      ]
    },
    {
      "cell_type": "markdown",
      "metadata": {
        "id": "1-odm5DBX9n0",
        "colab_type": "text"
      },
      "source": [
        "##Flair Detection using URL as Feature"
      ]
    },
    {
      "cell_type": "code",
      "metadata": {
        "colab_type": "code",
        "id": "jHnEEl1GpD_c",
        "colab": {
          "base_uri": "https://localhost:8080/",
          "height": 1000
        },
        "outputId": "066c2f90-c2b5-42a8-b227-551ea86a6a33"
      },
      "source": [
        "train_test(Z,cat)"
      ],
      "execution_count": 29,
      "outputs": [
        {
          "output_type": "stream",
          "text": [
            "Results of Naive Bayes Classifier\n",
            "accuracy 0.2590909090909091\n",
            "                    precision    recall  f1-score   support\n",
            "\n",
            "          AskIndia       0.20      1.00      0.34        24\n",
            "     Non-Political       0.25      0.07      0.11        14\n",
            "         Scheduled       0.30      0.44      0.36        16\n",
            "       Photography       0.10      0.05      0.07        19\n",
            "Science/Technology       0.40      0.21      0.28        19\n",
            "          Politics       0.45      0.20      0.28        25\n",
            "  Business/Finance       0.20      0.05      0.07        22\n",
            "    Policy/Economy       0.42      0.20      0.27        25\n",
            "            Sports       0.21      0.18      0.19        17\n",
            "              Food       0.36      0.22      0.28        18\n",
            "       Coronavirus       1.00      0.10      0.17        21\n",
            "\n",
            "          accuracy                           0.26       220\n",
            "         macro avg       0.36      0.25      0.22       220\n",
            "      weighted avg       0.36      0.26      0.22       220\n",
            "\n",
            "Results of Linear Support Vector Machine\n",
            "accuracy 0.2636363636363636\n",
            "                    precision    recall  f1-score   support\n",
            "\n",
            "          AskIndia       0.20      1.00      0.34        24\n",
            "     Non-Political       0.33      0.07      0.12        14\n",
            "         Scheduled       0.27      0.38      0.32        16\n",
            "       Photography       0.11      0.05      0.07        19\n",
            "Science/Technology       0.33      0.16      0.21        19\n",
            "          Politics       0.38      0.20      0.26        25\n",
            "  Business/Finance       0.33      0.09      0.14        22\n",
            "    Policy/Economy       0.47      0.28      0.35        25\n",
            "            Sports       0.25      0.12      0.16        17\n",
            "              Food       0.29      0.22      0.25        18\n",
            "       Coronavirus       1.00      0.14      0.25        21\n",
            "\n",
            "          accuracy                           0.26       220\n",
            "         macro avg       0.36      0.25      0.22       220\n",
            "      weighted avg       0.37      0.26      0.23       220\n",
            "\n",
            "Results of Logistic Regression\n"
          ],
          "name": "stdout"
        },
        {
          "output_type": "stream",
          "text": [
            "/usr/local/lib/python3.6/dist-packages/sklearn/linear_model/_logistic.py:940: ConvergenceWarning: lbfgs failed to converge (status=1):\n",
            "STOP: TOTAL NO. of ITERATIONS REACHED LIMIT.\n",
            "\n",
            "Increase the number of iterations (max_iter) or scale the data as shown in:\n",
            "    https://scikit-learn.org/stable/modules/preprocessing.html\n",
            "Please also refer to the documentation for alternative solver options:\n",
            "    https://scikit-learn.org/stable/modules/linear_model.html#logistic-regression\n",
            "  extra_warning_msg=_LOGISTIC_SOLVER_CONVERGENCE_MSG)\n"
          ],
          "name": "stderr"
        },
        {
          "output_type": "stream",
          "text": [
            "accuracy 0.2772727272727273\n",
            "                    precision    recall  f1-score   support\n",
            "\n",
            "          AskIndia       0.20      1.00      0.34        24\n",
            "     Non-Political       0.38      0.21      0.27        14\n",
            "         Scheduled       0.38      0.50      0.43        16\n",
            "       Photography       0.09      0.05      0.07        19\n",
            "Science/Technology       0.40      0.11      0.17        19\n",
            "          Politics       0.38      0.24      0.29        25\n",
            "  Business/Finance       0.25      0.09      0.13        22\n",
            "    Policy/Economy       0.46      0.24      0.32        25\n",
            "            Sports       0.25      0.12      0.16        17\n",
            "              Food       0.50      0.22      0.31        18\n",
            "       Coronavirus       1.00      0.14      0.25        21\n",
            "\n",
            "          accuracy                           0.28       220\n",
            "         macro avg       0.39      0.27      0.25       220\n",
            "      weighted avg       0.39      0.28      0.25       220\n",
            "\n",
            "Results of Random Forest\n",
            "accuracy 0.16818181818181818\n",
            "                    precision    recall  f1-score   support\n",
            "\n",
            "          AskIndia       0.00      0.00      0.00        24\n",
            "     Non-Political       0.00      0.00      0.00        14\n",
            "         Scheduled       0.35      0.38      0.36        16\n",
            "       Photography       0.10      0.11      0.10        19\n",
            "Science/Technology       0.11      0.11      0.11        19\n",
            "          Politics       0.20      0.04      0.07        25\n",
            "  Business/Finance       0.11      0.64      0.19        22\n",
            "    Policy/Economy       0.36      0.20      0.26        25\n",
            "            Sports       0.33      0.18      0.23        17\n",
            "              Food       0.30      0.17      0.21        18\n",
            "       Coronavirus       1.00      0.05      0.09        21\n",
            "\n",
            "          accuracy                           0.17       220\n",
            "         macro avg       0.26      0.17      0.15       220\n",
            "      weighted avg       0.26      0.17      0.14       220\n",
            "\n",
            "Results of MLP Classifier\n",
            "accuracy 0.2545454545454545\n",
            "                    precision    recall  f1-score   support\n",
            "\n",
            "          AskIndia       0.20      1.00      0.34        24\n",
            "     Non-Political       0.18      0.14      0.16        14\n",
            "         Scheduled       0.38      0.31      0.34        16\n",
            "       Photography       0.17      0.11      0.13        19\n",
            "Science/Technology       0.33      0.11      0.16        19\n",
            "          Politics       0.60      0.12      0.20        25\n",
            "  Business/Finance       0.40      0.09      0.15        22\n",
            "    Policy/Economy       0.29      0.36      0.32        25\n",
            "            Sports       0.10      0.06      0.07        17\n",
            "              Food       0.60      0.17      0.26        18\n",
            "       Coronavirus       0.75      0.14      0.24        21\n",
            "\n",
            "          accuracy                           0.25       220\n",
            "         macro avg       0.36      0.24      0.22       220\n",
            "      weighted avg       0.37      0.25      0.22       220\n",
            "\n"
          ],
          "name": "stdout"
        }
      ]
    },
    {
      "cell_type": "markdown",
      "metadata": {
        "id": "oIjc_tBUX-ox",
        "colab_type": "text"
      },
      "source": [
        "##Flair Detection using Comments as Feature"
      ]
    },
    {
      "cell_type": "code",
      "metadata": {
        "colab_type": "code",
        "id": "xUWqGCu60N09",
        "outputId": "d1e4965c-d96e-4d48-b375-7c595156a3c1",
        "colab": {
          "base_uri": "https://localhost:8080/",
          "height": 1000
        }
      },
      "source": [
        "train_test(W,cat)"
      ],
      "execution_count": 30,
      "outputs": [
        {
          "output_type": "stream",
          "text": [
            "Results of Naive Bayes Classifier\n",
            "accuracy 0.36363636363636365\n",
            "                    precision    recall  f1-score   support\n",
            "\n",
            "          AskIndia       0.17      0.04      0.07        24\n",
            "     Non-Political       0.22      0.93      0.35        14\n",
            "         Scheduled       0.24      0.56      0.34        16\n",
            "       Photography       0.45      0.53      0.49        19\n",
            "Science/Technology       0.00      0.00      0.00        19\n",
            "          Politics       0.88      0.56      0.68        25\n",
            "  Business/Finance       0.32      0.32      0.32        22\n",
            "    Policy/Economy       0.42      0.32      0.36        25\n",
            "            Sports       0.23      0.18      0.20        17\n",
            "              Food       0.36      0.22      0.28        18\n",
            "       Coronavirus       1.00      0.52      0.69        21\n",
            "\n",
            "          accuracy                           0.36       220\n",
            "         macro avg       0.39      0.38      0.34       220\n",
            "      weighted avg       0.41      0.36      0.35       220\n",
            "\n",
            "Results of Linear Support Vector Machine\n",
            "accuracy 0.35909090909090907\n",
            "                    precision    recall  f1-score   support\n",
            "\n",
            "          AskIndia       0.25      0.08      0.12        24\n",
            "     Non-Political       0.36      0.64      0.46        14\n",
            "         Scheduled       0.20      0.12      0.15        16\n",
            "       Photography       0.43      0.53      0.48        19\n",
            "Science/Technology       0.06      0.16      0.09        19\n",
            "          Politics       0.75      0.60      0.67        25\n",
            "  Business/Finance       0.45      0.23      0.30        22\n",
            "    Policy/Economy       0.43      0.48      0.45        25\n",
            "            Sports       0.29      0.24      0.26        17\n",
            "              Food       0.38      0.28      0.32        18\n",
            "       Coronavirus       0.71      0.57      0.63        21\n",
            "\n",
            "          accuracy                           0.36       220\n",
            "         macro avg       0.39      0.36      0.36       220\n",
            "      weighted avg       0.41      0.36      0.37       220\n",
            "\n",
            "Results of Logistic Regression\n"
          ],
          "name": "stdout"
        },
        {
          "output_type": "stream",
          "text": [
            "/usr/local/lib/python3.6/dist-packages/sklearn/linear_model/_logistic.py:940: ConvergenceWarning: lbfgs failed to converge (status=1):\n",
            "STOP: TOTAL NO. of ITERATIONS REACHED LIMIT.\n",
            "\n",
            "Increase the number of iterations (max_iter) or scale the data as shown in:\n",
            "    https://scikit-learn.org/stable/modules/preprocessing.html\n",
            "Please also refer to the documentation for alternative solver options:\n",
            "    https://scikit-learn.org/stable/modules/linear_model.html#logistic-regression\n",
            "  extra_warning_msg=_LOGISTIC_SOLVER_CONVERGENCE_MSG)\n"
          ],
          "name": "stderr"
        },
        {
          "output_type": "stream",
          "text": [
            "accuracy 0.39090909090909093\n",
            "                    precision    recall  f1-score   support\n",
            "\n",
            "          AskIndia       0.20      0.08      0.12        24\n",
            "     Non-Political       0.34      0.79      0.48        14\n",
            "         Scheduled       0.24      0.62      0.34        16\n",
            "       Photography       0.53      0.47      0.50        19\n",
            "Science/Technology       0.10      0.11      0.10        19\n",
            "          Politics       0.79      0.60      0.68        25\n",
            "  Business/Finance       0.50      0.18      0.27        22\n",
            "    Policy/Economy       0.44      0.48      0.46        25\n",
            "            Sports       0.31      0.29      0.30        17\n",
            "              Food       0.38      0.28      0.32        18\n",
            "       Coronavirus       0.73      0.52      0.61        21\n",
            "\n",
            "          accuracy                           0.39       220\n",
            "         macro avg       0.42      0.40      0.38       220\n",
            "      weighted avg       0.43      0.39      0.38       220\n",
            "\n",
            "Results of Random Forest\n",
            "accuracy 0.38636363636363635\n",
            "                    precision    recall  f1-score   support\n",
            "\n",
            "          AskIndia       0.43      0.12      0.19        24\n",
            "     Non-Political       0.39      0.93      0.55        14\n",
            "         Scheduled       0.15      0.62      0.24        16\n",
            "       Photography       0.60      0.47      0.53        19\n",
            "Science/Technology       0.00      0.00      0.00        19\n",
            "          Politics       0.62      0.60      0.61        25\n",
            "  Business/Finance       0.67      0.18      0.29        22\n",
            "    Policy/Economy       0.36      0.36      0.36        25\n",
            "            Sports       0.31      0.24      0.27        17\n",
            "              Food       0.50      0.28      0.36        18\n",
            "       Coronavirus       0.87      0.62      0.72        21\n",
            "\n",
            "          accuracy                           0.39       220\n",
            "         macro avg       0.45      0.40      0.37       220\n",
            "      weighted avg       0.46      0.39      0.38       220\n",
            "\n",
            "Results of MLP Classifier\n",
            "accuracy 0.2545454545454545\n",
            "                    precision    recall  f1-score   support\n",
            "\n",
            "          AskIndia       0.09      0.04      0.06        24\n",
            "     Non-Political       0.27      0.29      0.28        14\n",
            "         Scheduled       0.21      0.56      0.31        16\n",
            "       Photography       0.30      0.16      0.21        19\n",
            "Science/Technology       0.29      0.11      0.15        19\n",
            "          Politics       0.58      0.60      0.59        25\n",
            "  Business/Finance       0.29      0.27      0.28        22\n",
            "    Policy/Economy       0.14      0.04      0.06        25\n",
            "            Sports       0.22      0.12      0.15        17\n",
            "              Food       0.12      0.44      0.19        18\n",
            "       Coronavirus       0.83      0.24      0.37        21\n",
            "\n",
            "          accuracy                           0.25       220\n",
            "         macro avg       0.30      0.26      0.24       220\n",
            "      weighted avg       0.31      0.25      0.24       220\n",
            "\n"
          ],
          "name": "stdout"
        }
      ]
    },
    {
      "cell_type": "markdown",
      "metadata": {
        "id": "hUShjAAKYAcN",
        "colab_type": "text"
      },
      "source": [
        "##Flair Detection using Combined Features as Feature"
      ]
    },
    {
      "cell_type": "code",
      "metadata": {
        "colab_type": "code",
        "id": "_UnDMCTkpFFe",
        "colab": {
          "base_uri": "https://localhost:8080/",
          "height": 1000
        },
        "outputId": "770ddbd6-99c2-4d7d-c06a-cde1667710c8"
      },
      "source": [
        "train_test(V,cat)"
      ],
      "execution_count": 31,
      "outputs": [
        {
          "output_type": "stream",
          "text": [
            "Results of Naive Bayes Classifier\n",
            "accuracy 0.5363636363636364\n",
            "                    precision    recall  f1-score   support\n",
            "\n",
            "          AskIndia       0.33      0.08      0.13        24\n",
            "     Non-Political       0.21      0.93      0.34        14\n",
            "         Scheduled       0.83      0.62      0.71        16\n",
            "       Photography       0.61      0.58      0.59        19\n",
            "Science/Technology       0.50      0.16      0.24        19\n",
            "          Politics       0.86      0.76      0.81        25\n",
            "  Business/Finance       0.42      0.77      0.55        22\n",
            "    Policy/Economy       0.80      0.32      0.46        25\n",
            "            Sports       0.67      0.35      0.46        17\n",
            "              Food       0.72      0.72      0.72        18\n",
            "       Coronavirus       1.00      0.76      0.86        21\n",
            "\n",
            "          accuracy                           0.54       220\n",
            "         macro avg       0.63      0.55      0.53       220\n",
            "      weighted avg       0.64      0.54      0.54       220\n",
            "\n",
            "Results of Linear Support Vector Machine\n",
            "accuracy 0.7181818181818181\n",
            "                    precision    recall  f1-score   support\n",
            "\n",
            "          AskIndia       0.71      0.42      0.53        24\n",
            "     Non-Political       0.56      1.00      0.72        14\n",
            "         Scheduled       0.58      0.88      0.70        16\n",
            "       Photography       0.68      0.68      0.68        19\n",
            "Science/Technology       0.64      0.47      0.55        19\n",
            "          Politics       0.85      0.88      0.86        25\n",
            "  Business/Finance       0.76      0.59      0.67        22\n",
            "    Policy/Economy       0.67      0.72      0.69        25\n",
            "            Sports       0.81      0.76      0.79        17\n",
            "              Food       0.70      0.78      0.74        18\n",
            "       Coronavirus       1.00      0.86      0.92        21\n",
            "\n",
            "          accuracy                           0.72       220\n",
            "         macro avg       0.72      0.73      0.71       220\n",
            "      weighted avg       0.73      0.72      0.71       220\n",
            "\n",
            "Results of Logistic Regression\n"
          ],
          "name": "stdout"
        },
        {
          "output_type": "stream",
          "text": [
            "/usr/local/lib/python3.6/dist-packages/sklearn/linear_model/_logistic.py:940: ConvergenceWarning: lbfgs failed to converge (status=1):\n",
            "STOP: TOTAL NO. of ITERATIONS REACHED LIMIT.\n",
            "\n",
            "Increase the number of iterations (max_iter) or scale the data as shown in:\n",
            "    https://scikit-learn.org/stable/modules/preprocessing.html\n",
            "Please also refer to the documentation for alternative solver options:\n",
            "    https://scikit-learn.org/stable/modules/linear_model.html#logistic-regression\n",
            "  extra_warning_msg=_LOGISTIC_SOLVER_CONVERGENCE_MSG)\n"
          ],
          "name": "stderr"
        },
        {
          "output_type": "stream",
          "text": [
            "accuracy 0.7181818181818181\n",
            "                    precision    recall  f1-score   support\n",
            "\n",
            "          AskIndia       0.68      0.54      0.60        24\n",
            "     Non-Political       0.62      0.93      0.74        14\n",
            "         Scheduled       0.78      0.88      0.82        16\n",
            "       Photography       0.68      0.68      0.68        19\n",
            "Science/Technology       0.59      0.53      0.56        19\n",
            "          Politics       0.87      0.80      0.83        25\n",
            "  Business/Finance       0.68      0.59      0.63        22\n",
            "    Policy/Economy       0.64      0.72      0.68        25\n",
            "            Sports       0.56      0.59      0.57        17\n",
            "              Food       0.79      0.83      0.81        18\n",
            "       Coronavirus       1.00      0.90      0.95        21\n",
            "\n",
            "          accuracy                           0.72       220\n",
            "         macro avg       0.72      0.73      0.72       220\n",
            "      weighted avg       0.72      0.72      0.72       220\n",
            "\n",
            "Results of Random Forest\n",
            "accuracy 0.7863636363636364\n",
            "                    precision    recall  f1-score   support\n",
            "\n",
            "          AskIndia       0.86      0.79      0.83        24\n",
            "     Non-Political       0.56      1.00      0.72        14\n",
            "         Scheduled       0.56      0.88      0.68        16\n",
            "       Photography       0.81      0.68      0.74        19\n",
            "Science/Technology       0.73      0.58      0.65        19\n",
            "          Politics       0.92      0.92      0.92        25\n",
            "  Business/Finance       0.78      0.64      0.70        22\n",
            "    Policy/Economy       0.78      0.72      0.75        25\n",
            "            Sports       1.00      0.76      0.87        17\n",
            "              Food       0.84      0.89      0.86        18\n",
            "       Coronavirus       0.95      0.86      0.90        21\n",
            "\n",
            "          accuracy                           0.79       220\n",
            "         macro avg       0.80      0.79      0.78       220\n",
            "      weighted avg       0.81      0.79      0.79       220\n",
            "\n",
            "Results of MLP Classifier\n",
            "accuracy 0.45\n",
            "                    precision    recall  f1-score   support\n",
            "\n",
            "          AskIndia       0.40      0.33      0.36        24\n",
            "     Non-Political       0.53      0.64      0.58        14\n",
            "         Scheduled       0.26      0.88      0.41        16\n",
            "       Photography       0.47      0.47      0.47        19\n",
            "Science/Technology       1.00      0.11      0.19        19\n",
            "          Politics       0.93      0.52      0.67        25\n",
            "  Business/Finance       0.32      0.45      0.38        22\n",
            "    Policy/Economy       0.50      0.28      0.36        25\n",
            "            Sports       0.25      0.24      0.24        17\n",
            "              Food       0.86      0.67      0.75        18\n",
            "       Coronavirus       0.55      0.52      0.54        21\n",
            "\n",
            "          accuracy                           0.45       220\n",
            "         macro avg       0.55      0.46      0.45       220\n",
            "      weighted avg       0.56      0.45      0.45       220\n",
            "\n"
          ],
          "name": "stdout"
        }
      ]
    },
    {
      "cell_type": "markdown",
      "metadata": {
        "id": "W7apRw25yf4G",
        "colab_type": "text"
      },
      "source": [
        "##Downloading Logistic Regression and Random Forrest model\n",
        "training them on combined features as these models have shown the best results on these features using pickle"
      ]
    },
    {
      "cell_type": "code",
      "metadata": {
        "id": "TNVgAOACyiUw",
        "colab_type": "code",
        "outputId": "ed1bc2c8-c234-4b5d-fa3a-73cc9d29aec9",
        "colab": {
          "base_uri": "https://localhost:8080/",
          "height": 187
        }
      },
      "source": [
        "data = pd.read_csv('/content/data1.csv')\n",
        "data.head()\n",
        "\n",
        "data['title'] = data['title'].apply(to_str)\n",
        "data['title'] = data['title'].apply(clean_text)\n",
        "data['body'] = data['body'].apply(to_str)\n",
        "data['body'] = data['body'].apply(clean_text)\n",
        "data['comments'] = data['comments'].apply(to_str)\n",
        "data['comments'] = data['comments'].apply(clean_text)\n",
        "data['combined_features'] = data['combined_features'].apply(to_str)\n",
        "data['combined_features'] = data['combined_features'].apply(clean_text)\n",
        "\n",
        "cat = data.flair\n",
        "\n",
        "V = data.combined_features\n",
        "W = data.comments\n",
        "X = data.title\n",
        "Y = data.body\n",
        "Z = data.url\n",
        "\n",
        "X_train, X_test, y_train, y_test = train_test_split(V, cat, test_size=0.2, random_state = 42)\n",
        "ranfor = Pipeline([('vect', CountVectorizer()),\n",
        "                   ('tfidf', TfidfTransformer()),\n",
        "                   ('clf', RandomForestClassifier(n_estimators = 1000, random_state = 42)),\n",
        "                  ])\n",
        "RM = ranfor.fit(X_train, y_train)\n",
        "pickle.dump(RM,open(\"RF_data4.pkl\",'wb'))\n",
        "y_pred = ranfor.predict(X_test)\n",
        "print('accuracy %s' % accuracy_score(y_pred, y_test))\n",
        "\n",
        "logreg = Pipeline([('vect', CountVectorizer()),\n",
        "                  ('tfidf', TfidfTransformer()),\n",
        "                  ('clf', LogisticRegression(n_jobs=1, C=1e5, max_iter=200)),\n",
        "                 ])\n",
        "\n",
        "logreg = logreg.fit(X_train, y_train)\n",
        "\n",
        "pickle.dump(logreg,open(\"LR_data4.pkl\",'wb'))\n",
        "y_pred = logreg.predict(X_test)\n",
        "print('accuracy %s' % accuracy_score(y_pred, y_test))\n",
        "\n"
      ],
      "execution_count": 32,
      "outputs": [
        {
          "output_type": "stream",
          "text": [
            "accuracy 0.7863636363636364\n",
            "accuracy 0.7136363636363636\n"
          ],
          "name": "stdout"
        },
        {
          "output_type": "stream",
          "text": [
            "/usr/local/lib/python3.6/dist-packages/sklearn/linear_model/_logistic.py:940: ConvergenceWarning: lbfgs failed to converge (status=1):\n",
            "STOP: TOTAL NO. of ITERATIONS REACHED LIMIT.\n",
            "\n",
            "Increase the number of iterations (max_iter) or scale the data as shown in:\n",
            "    https://scikit-learn.org/stable/modules/preprocessing.html\n",
            "Please also refer to the documentation for alternative solver options:\n",
            "    https://scikit-learn.org/stable/modules/linear_model.html#logistic-regression\n",
            "  extra_warning_msg=_LOGISTIC_SOLVER_CONVERGENCE_MSG)\n"
          ],
          "name": "stderr"
        }
      ]
    }
  ]
}